{
  "nbformat": 4,
  "nbformat_minor": 0,
  "metadata": {
    "colab": {
      "provenance": [],
      "authorship_tag": "ABX9TyOrzN/gJKRc9/pJ0i95J6eL",
      "include_colab_link": true
    },
    "kernelspec": {
      "name": "python3",
      "display_name": "Python 3"
    },
    "language_info": {
      "name": "python"
    }
  },
  "cells": [
    {
      "cell_type": "markdown",
      "metadata": {
        "id": "view-in-github",
        "colab_type": "text"
      },
      "source": [
        "<a href=\"https://colab.research.google.com/github/othyTim/Prediction-of-Product-Sales/blob/main/Timothy_Lingeveldt_Markdown_cells.ipynb\" target=\"_parent\"><img src=\"https://colab.research.google.com/assets/colab-badge.svg\" alt=\"Open In Colab\"/></a>"
      ]
    },
    {
      "cell_type": "markdown",
      "source": [
        "# Prediction of Product Sales"
      ],
      "metadata": {
        "id": "u5rzdWeAq4OC"
      }
    },
    {
      "cell_type": "markdown",
      "source": [
        "- Author: Timothy Lingeveldt"
      ],
      "metadata": {
        "id": "eLj4o41-qGyX"
      }
    },
    {
      "cell_type": "markdown",
      "source": [
        "## Project Overview"
      ],
      "metadata": {
        "id": "iiM22I9lqMUK"
      }
    },
    {
      "cell_type": "code",
      "source": [],
      "metadata": {
        "id": "K2_0BIkKqD1t"
      },
      "execution_count": null,
      "outputs": []
    },
    {
      "cell_type": "markdown",
      "source": [
        "## Load and Inspect"
      ],
      "metadata": {
        "id": "TStKVxlHqRGB"
      }
    },
    {
      "cell_type": "code",
      "source": [],
      "metadata": {
        "id": "bq1ZtfSLqTnh"
      },
      "execution_count": null,
      "outputs": []
    },
    {
      "cell_type": "markdown",
      "source": [
        "## Clean Data"
      ],
      "metadata": {
        "id": "5jJgnbInqUgE"
      }
    },
    {
      "cell_type": "code",
      "source": [],
      "metadata": {
        "id": "rmPfNv_GqWB6"
      },
      "execution_count": null,
      "outputs": []
    },
    {
      "cell_type": "markdown",
      "source": [
        "## Exploratory Data Analysis"
      ],
      "metadata": {
        "id": "WAw6nhtrqWzl"
      }
    },
    {
      "cell_type": "code",
      "source": [],
      "metadata": {
        "id": "tuwGWi0fqcN9"
      },
      "execution_count": null,
      "outputs": []
    },
    {
      "cell_type": "markdown",
      "source": [
        "## Explanatory Data Analysis"
      ],
      "metadata": {
        "id": "K1N0BndOqodg"
      }
    },
    {
      "cell_type": "code",
      "source": [],
      "metadata": {
        "id": "HtmfpTfrqxLN"
      },
      "execution_count": null,
      "outputs": []
    }
  ]
}
